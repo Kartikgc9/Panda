{
 "cells": [
  {
   "cell_type": "code",
   "execution_count": 1,
   "id": "6f4a5fbc-c392-4012-87d5-94172ecbcbc7",
   "metadata": {},
   "outputs": [],
   "source": [
    "import numpy as np\n",
    "import pandas as pd"
   ]
  },
  {
   "cell_type": "code",
   "execution_count": 2,
   "id": "d5a3c593-6b3f-4096-8d40-dc08bd2f0bbe",
   "metadata": {},
   "outputs": [],
   "source": [
    "label1 = {\n",
    "    \"brands\" : ['bmw' , 'audi' , 'volvo' , 'mercedes' , 'toyota'],\n",
    "    \"color\" : ['red' , 'blue' , 'grey' , 'black' , 'purple'],\n",
    "    \"model\" : ['X7' , 'A4' , 'xc90' , 'amg' , 'fortuner'],\n",
    "    \"fuel_type\" : ['petrol' , 'petrol' , 'diesel' , 'petrol' , 'diesel'],\n",
    "}"
   ]
  },
  {
   "cell_type": "code",
   "execution_count": 3,
   "id": "8eacafea-5083-4074-ad2c-175ac9b5ea78",
   "metadata": {},
   "outputs": [],
   "source": [
    "df = pd.DataFrame(label1)"
   ]
  },
  {
   "cell_type": "code",
   "execution_count": 4,
   "id": "2d2dfa0e-55f6-442c-8ba8-bc84d8884add",
   "metadata": {},
   "outputs": [
    {
     "data": {
      "text/html": [
       "<div>\n",
       "<style scoped>\n",
       "    .dataframe tbody tr th:only-of-type {\n",
       "        vertical-align: middle;\n",
       "    }\n",
       "\n",
       "    .dataframe tbody tr th {\n",
       "        vertical-align: top;\n",
       "    }\n",
       "\n",
       "    .dataframe thead th {\n",
       "        text-align: right;\n",
       "    }\n",
       "</style>\n",
       "<table border=\"1\" class=\"dataframe\">\n",
       "  <thead>\n",
       "    <tr style=\"text-align: right;\">\n",
       "      <th></th>\n",
       "      <th>brands</th>\n",
       "      <th>color</th>\n",
       "      <th>model</th>\n",
       "      <th>fuel_type</th>\n",
       "    </tr>\n",
       "  </thead>\n",
       "  <tbody>\n",
       "    <tr>\n",
       "      <th>0</th>\n",
       "      <td>bmw</td>\n",
       "      <td>red</td>\n",
       "      <td>X7</td>\n",
       "      <td>petrol</td>\n",
       "    </tr>\n",
       "    <tr>\n",
       "      <th>1</th>\n",
       "      <td>audi</td>\n",
       "      <td>blue</td>\n",
       "      <td>A4</td>\n",
       "      <td>petrol</td>\n",
       "    </tr>\n",
       "    <tr>\n",
       "      <th>2</th>\n",
       "      <td>volvo</td>\n",
       "      <td>grey</td>\n",
       "      <td>xc90</td>\n",
       "      <td>diesel</td>\n",
       "    </tr>\n",
       "    <tr>\n",
       "      <th>3</th>\n",
       "      <td>mercedes</td>\n",
       "      <td>black</td>\n",
       "      <td>amg</td>\n",
       "      <td>petrol</td>\n",
       "    </tr>\n",
       "    <tr>\n",
       "      <th>4</th>\n",
       "      <td>toyota</td>\n",
       "      <td>purple</td>\n",
       "      <td>fortuner</td>\n",
       "      <td>diesel</td>\n",
       "    </tr>\n",
       "  </tbody>\n",
       "</table>\n",
       "</div>"
      ],
      "text/plain": [
       "     brands   color     model fuel_type\n",
       "0       bmw     red        X7    petrol\n",
       "1      audi    blue        A4    petrol\n",
       "2     volvo    grey      xc90    diesel\n",
       "3  mercedes   black       amg    petrol\n",
       "4    toyota  purple  fortuner    diesel"
      ]
     },
     "execution_count": 4,
     "metadata": {},
     "output_type": "execute_result"
    }
   ],
   "source": [
    "df"
   ]
  },
  {
   "cell_type": "code",
   "execution_count": 5,
   "id": "f78a809d-cf74-44b8-b165-39d8490a8737",
   "metadata": {},
   "outputs": [],
   "source": [
    "df.to_csv('cars.csv' , index = False)"
   ]
  },
  {
   "cell_type": "code",
   "execution_count": 6,
   "id": "e436e920-0033-4bfd-9463-7438ac3e8206",
   "metadata": {},
   "outputs": [],
   "source": [
    "cars = pd.read_csv('cars.csv')"
   ]
  },
  {
   "cell_type": "code",
   "execution_count": 7,
   "id": "b05c17ca-bec4-407b-8dfe-5e7335d59793",
   "metadata": {},
   "outputs": [
    {
     "data": {
      "text/html": [
       "<div>\n",
       "<style scoped>\n",
       "    .dataframe tbody tr th:only-of-type {\n",
       "        vertical-align: middle;\n",
       "    }\n",
       "\n",
       "    .dataframe tbody tr th {\n",
       "        vertical-align: top;\n",
       "    }\n",
       "\n",
       "    .dataframe thead th {\n",
       "        text-align: right;\n",
       "    }\n",
       "</style>\n",
       "<table border=\"1\" class=\"dataframe\">\n",
       "  <thead>\n",
       "    <tr style=\"text-align: right;\">\n",
       "      <th></th>\n",
       "      <th>brands</th>\n",
       "      <th>color</th>\n",
       "      <th>model</th>\n",
       "      <th>fuel_type</th>\n",
       "    </tr>\n",
       "  </thead>\n",
       "  <tbody>\n",
       "    <tr>\n",
       "      <th>0</th>\n",
       "      <td>bmw</td>\n",
       "      <td>red</td>\n",
       "      <td>X7</td>\n",
       "      <td>petrol</td>\n",
       "    </tr>\n",
       "    <tr>\n",
       "      <th>1</th>\n",
       "      <td>audi</td>\n",
       "      <td>blue</td>\n",
       "      <td>A4</td>\n",
       "      <td>petrol</td>\n",
       "    </tr>\n",
       "    <tr>\n",
       "      <th>2</th>\n",
       "      <td>volvo</td>\n",
       "      <td>grey</td>\n",
       "      <td>xc90</td>\n",
       "      <td>diesel</td>\n",
       "    </tr>\n",
       "    <tr>\n",
       "      <th>3</th>\n",
       "      <td>mercedes</td>\n",
       "      <td>black</td>\n",
       "      <td>amg</td>\n",
       "      <td>petrol</td>\n",
       "    </tr>\n",
       "    <tr>\n",
       "      <th>4</th>\n",
       "      <td>toyota</td>\n",
       "      <td>purple</td>\n",
       "      <td>fortuner</td>\n",
       "      <td>diesel</td>\n",
       "    </tr>\n",
       "  </tbody>\n",
       "</table>\n",
       "</div>"
      ],
      "text/plain": [
       "     brands   color     model fuel_type\n",
       "0       bmw     red        X7    petrol\n",
       "1      audi    blue        A4    petrol\n",
       "2     volvo    grey      xc90    diesel\n",
       "3  mercedes   black       amg    petrol\n",
       "4    toyota  purple  fortuner    diesel"
      ]
     },
     "execution_count": 7,
     "metadata": {},
     "output_type": "execute_result"
    }
   ],
   "source": [
    "cars"
   ]
  },
  {
   "cell_type": "code",
   "execution_count": 8,
   "id": "23111f75-3439-4105-ab00-8acf9e6ddaa7",
   "metadata": {},
   "outputs": [
    {
     "data": {
      "text/plain": [
       "'red'"
      ]
     },
     "execution_count": 8,
     "metadata": {},
     "output_type": "execute_result"
    }
   ],
   "source": [
    "cars['color'][0]"
   ]
  },
  {
   "cell_type": "code",
   "execution_count": 9,
   "id": "2923b623-e6ae-4985-8b43-f189a6f0d702",
   "metadata": {},
   "outputs": [],
   "source": [
    "cars['model'][3] = 'c_class'"
   ]
  },
  {
   "cell_type": "code",
   "execution_count": 10,
   "id": "0acbefe0-1cd9-431f-9cf2-e24d978e0631",
   "metadata": {},
   "outputs": [
    {
     "data": {
      "text/html": [
       "<div>\n",
       "<style scoped>\n",
       "    .dataframe tbody tr th:only-of-type {\n",
       "        vertical-align: middle;\n",
       "    }\n",
       "\n",
       "    .dataframe tbody tr th {\n",
       "        vertical-align: top;\n",
       "    }\n",
       "\n",
       "    .dataframe thead th {\n",
       "        text-align: right;\n",
       "    }\n",
       "</style>\n",
       "<table border=\"1\" class=\"dataframe\">\n",
       "  <thead>\n",
       "    <tr style=\"text-align: right;\">\n",
       "      <th></th>\n",
       "      <th>brands</th>\n",
       "      <th>color</th>\n",
       "      <th>model</th>\n",
       "      <th>fuel_type</th>\n",
       "    </tr>\n",
       "  </thead>\n",
       "  <tbody>\n",
       "    <tr>\n",
       "      <th>0</th>\n",
       "      <td>bmw</td>\n",
       "      <td>red</td>\n",
       "      <td>X7</td>\n",
       "      <td>petrol</td>\n",
       "    </tr>\n",
       "    <tr>\n",
       "      <th>1</th>\n",
       "      <td>audi</td>\n",
       "      <td>blue</td>\n",
       "      <td>A4</td>\n",
       "      <td>petrol</td>\n",
       "    </tr>\n",
       "    <tr>\n",
       "      <th>2</th>\n",
       "      <td>volvo</td>\n",
       "      <td>grey</td>\n",
       "      <td>xc90</td>\n",
       "      <td>diesel</td>\n",
       "    </tr>\n",
       "    <tr>\n",
       "      <th>3</th>\n",
       "      <td>mercedes</td>\n",
       "      <td>black</td>\n",
       "      <td>c_class</td>\n",
       "      <td>petrol</td>\n",
       "    </tr>\n",
       "    <tr>\n",
       "      <th>4</th>\n",
       "      <td>toyota</td>\n",
       "      <td>purple</td>\n",
       "      <td>fortuner</td>\n",
       "      <td>diesel</td>\n",
       "    </tr>\n",
       "  </tbody>\n",
       "</table>\n",
       "</div>"
      ],
      "text/plain": [
       "     brands   color     model fuel_type\n",
       "0       bmw     red        X7    petrol\n",
       "1      audi    blue        A4    petrol\n",
       "2     volvo    grey      xc90    diesel\n",
       "3  mercedes   black   c_class    petrol\n",
       "4    toyota  purple  fortuner    diesel"
      ]
     },
     "execution_count": 10,
     "metadata": {},
     "output_type": "execute_result"
    }
   ],
   "source": [
    "cars"
   ]
  },
  {
   "cell_type": "code",
   "execution_count": 11,
   "id": "1ace496c-571e-461a-a07f-a3252e9071ef",
   "metadata": {},
   "outputs": [],
   "source": [
    "cars.index = ['first' , 'second' , 'third' , 'fourth' , 'fifth']"
   ]
  },
  {
   "cell_type": "code",
   "execution_count": 12,
   "id": "019155a5-7e50-41bc-8c6b-9cd24e37b9bf",
   "metadata": {},
   "outputs": [
    {
     "data": {
      "text/html": [
       "<div>\n",
       "<style scoped>\n",
       "    .dataframe tbody tr th:only-of-type {\n",
       "        vertical-align: middle;\n",
       "    }\n",
       "\n",
       "    .dataframe tbody tr th {\n",
       "        vertical-align: top;\n",
       "    }\n",
       "\n",
       "    .dataframe thead th {\n",
       "        text-align: right;\n",
       "    }\n",
       "</style>\n",
       "<table border=\"1\" class=\"dataframe\">\n",
       "  <thead>\n",
       "    <tr style=\"text-align: right;\">\n",
       "      <th></th>\n",
       "      <th>brands</th>\n",
       "      <th>color</th>\n",
       "      <th>model</th>\n",
       "      <th>fuel_type</th>\n",
       "    </tr>\n",
       "  </thead>\n",
       "  <tbody>\n",
       "    <tr>\n",
       "      <th>first</th>\n",
       "      <td>bmw</td>\n",
       "      <td>red</td>\n",
       "      <td>X7</td>\n",
       "      <td>petrol</td>\n",
       "    </tr>\n",
       "    <tr>\n",
       "      <th>second</th>\n",
       "      <td>audi</td>\n",
       "      <td>blue</td>\n",
       "      <td>A4</td>\n",
       "      <td>petrol</td>\n",
       "    </tr>\n",
       "    <tr>\n",
       "      <th>third</th>\n",
       "      <td>volvo</td>\n",
       "      <td>grey</td>\n",
       "      <td>xc90</td>\n",
       "      <td>diesel</td>\n",
       "    </tr>\n",
       "    <tr>\n",
       "      <th>fourth</th>\n",
       "      <td>mercedes</td>\n",
       "      <td>black</td>\n",
       "      <td>c_class</td>\n",
       "      <td>petrol</td>\n",
       "    </tr>\n",
       "    <tr>\n",
       "      <th>fifth</th>\n",
       "      <td>toyota</td>\n",
       "      <td>purple</td>\n",
       "      <td>fortuner</td>\n",
       "      <td>diesel</td>\n",
       "    </tr>\n",
       "  </tbody>\n",
       "</table>\n",
       "</div>"
      ],
      "text/plain": [
       "          brands   color     model fuel_type\n",
       "first        bmw     red        X7    petrol\n",
       "second      audi    blue        A4    petrol\n",
       "third      volvo    grey      xc90    diesel\n",
       "fourth  mercedes   black   c_class    petrol\n",
       "fifth     toyota  purple  fortuner    diesel"
      ]
     },
     "execution_count": 12,
     "metadata": {},
     "output_type": "execute_result"
    }
   ],
   "source": [
    "cars"
   ]
  },
  {
   "cell_type": "code",
   "execution_count": 14,
   "id": "b50999e3-24e1-45eb-a267-d1871de6f20a",
   "metadata": {},
   "outputs": [],
   "source": [
    "ser = pd.Series(np.random.rand(30))"
   ]
  },
  {
   "cell_type": "code",
   "execution_count": 15,
   "id": "43e0a756-a23f-4478-bfe8-1a324e738422",
   "metadata": {},
   "outputs": [
    {
     "data": {
      "text/plain": [
       "0     0.178297\n",
       "1     0.301828\n",
       "2     0.205977\n",
       "3     0.739686\n",
       "4     0.274521\n",
       "5     0.996674\n",
       "6     0.312850\n",
       "7     0.919862\n",
       "8     0.721738\n",
       "9     0.432927\n",
       "10    0.659115\n",
       "11    0.718965\n",
       "12    0.194589\n",
       "13    0.800028\n",
       "14    0.024749\n",
       "15    0.915760\n",
       "16    0.518510\n",
       "17    0.044874\n",
       "18    0.572291\n",
       "19    0.246027\n",
       "20    0.813966\n",
       "21    0.817083\n",
       "22    0.525181\n",
       "23    0.719005\n",
       "24    0.331441\n",
       "25    0.471943\n",
       "26    0.154096\n",
       "27    0.044374\n",
       "28    0.245987\n",
       "29    0.558945\n",
       "dtype: float64"
      ]
     },
     "execution_count": 15,
     "metadata": {},
     "output_type": "execute_result"
    }
   ],
   "source": [
    "ser"
   ]
  },
  {
   "cell_type": "code",
   "execution_count": 16,
   "id": "6ac91f58-f231-4ea6-8c1c-a44a2f462a22",
   "metadata": {},
   "outputs": [
    {
     "data": {
      "text/plain": [
       "pandas.core.series.Series"
      ]
     },
     "execution_count": 16,
     "metadata": {},
     "output_type": "execute_result"
    }
   ],
   "source": [
    "type(ser)"
   ]
  },
  {
   "cell_type": "code",
   "execution_count": null,
   "id": "e652d485-2a3f-4c34-a6bd-fdddd606da9e",
   "metadata": {},
   "outputs": [],
   "source": []
  }
 ],
 "metadata": {
  "kernelspec": {
   "display_name": "Python 3 (ipykernel)",
   "language": "python",
   "name": "python3"
  },
  "language_info": {
   "codemirror_mode": {
    "name": "ipython",
    "version": 3
   },
   "file_extension": ".py",
   "mimetype": "text/x-python",
   "name": "python",
   "nbconvert_exporter": "python",
   "pygments_lexer": "ipython3",
   "version": "3.11.4"
  }
 },
 "nbformat": 4,
 "nbformat_minor": 5
}
